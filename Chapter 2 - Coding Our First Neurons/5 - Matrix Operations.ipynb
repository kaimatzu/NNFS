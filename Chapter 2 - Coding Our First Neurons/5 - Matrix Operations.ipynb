{
 "cells": [
  {
   "cell_type": "markdown",
   "metadata": {},
   "source": [
    "### Matrix Product\n",
    "\n",
    "The **matrix product** is an operation in which we have 2 matrices, and we are performing dot products of all combinations of rows from the first matrix and the columns of the 2nd matrix, resulting in a matrix of those atomic **dot products**:\n",
    "\n",
    "![Matrix Multiplication](./img/diagram%205.png)\n",
    "\n",
    "To perform a matrix product, the size of the second dimension of the left matrix must match the size of the first dimension of the right matrix. \n",
    "\n",
    "For example, if the left matrix has a shape of (5, 4) then the right matrix must match this 4 within the first shape value (4, 7). The shape of the resulting array is always the first dimension of the left array and the second dimension of the right array, (5, 7).\n",
    "\n",
    "[More reading on Matrix Multiplication](https://www.mathsisfun.com/algebra/matrix-multiplying.html)"
   ]
  },
  {
   "cell_type": "markdown",
   "metadata": {},
   "source": [
    "### Transposition for the Matrix Product\n",
    "\n",
    "Transposition simply modifies a matrix in a way that its rows become columns and columns become rows:\n",
    "\n",
    "![Matrix Transposition](./img/diagram%206.png)\n",
    "\n",
    "Another example:\n",
    "\n",
    "![Matrix Transposition](./img/diagram%207.png)"
   ]
  },
  {
   "cell_type": "markdown",
   "metadata": {},
   "source": [
    "### Applying it to NumPy\n",
    "\n",
    "A row vector is a matrix whose first dimension’s size (the number of rows) equals 1 and the second dimension’s size (the number of columns) equals n — the vector size. In other words, it’s a 1 by n array or array of shape (1, n).\n",
    "\n",
    "$$ a = \\begin{bmatrix} a_1 & a_2 & a_3 & a_4 & \\dots & a_n \\end{bmatrix} $$\n",
    "\n",
    "With NumPy and with 3 values, we would define it as:"
   ]
  },
  {
   "cell_type": "code",
   "execution_count": 1,
   "metadata": {},
   "outputs": [],
   "source": [
    "import numpy as np "
   ]
  },
  {
   "cell_type": "code",
   "execution_count": 2,
   "metadata": {},
   "outputs": [
    {
     "data": {
      "text/plain": [
       "array([[1, 2, 3]])"
      ]
     },
     "execution_count": 2,
     "metadata": {},
     "output_type": "execute_result"
    }
   ],
   "source": [
    "np.array([[1, 2, 3]])"
   ]
  },
  {
   "cell_type": "markdown",
   "metadata": {},
   "source": [
    "Note the use of double brackets here. To transform a list into a matrix containing a single row (perform an equivalent operation of turning a vector into row vector), we can put it into a list and create numpy array:"
   ]
  },
  {
   "cell_type": "code",
   "execution_count": 3,
   "metadata": {},
   "outputs": [
    {
     "data": {
      "text/plain": [
       "array([[1, 2, 3]])"
      ]
     },
     "execution_count": 3,
     "metadata": {},
     "output_type": "execute_result"
    }
   ],
   "source": [
    "a = [1, 2, 3] \n",
    "np.array([a])"
   ]
  },
  {
   "cell_type": "markdown",
   "metadata": {},
   "source": [
    "Again, note that we encase a in brackets before converting to an array in this case. Or we can turn it into a 1D array and expand dimensions using one of the NumPy abilities:"
   ]
  },
  {
   "cell_type": "code",
   "execution_count": 4,
   "metadata": {},
   "outputs": [
    {
     "data": {
      "text/plain": [
       "array([[1, 2, 3]])"
      ]
     },
     "execution_count": 4,
     "metadata": {},
     "output_type": "execute_result"
    }
   ],
   "source": [
    "a = [1, 2, 3] \n",
    "np.expand_dims(np.array(a), axis=0)"
   ]
  },
  {
   "cell_type": "markdown",
   "metadata": {},
   "source": [
    "Where np.expand_dims() adds a new dimension at the index of the axis."
   ]
  },
  {
   "cell_type": "markdown",
   "metadata": {},
   "source": [
    "A column vector is a matrix where the second dimension’s size equals 1, in other words, it’s an array of shape (n, 1):\n",
    "\n",
    "$$ b = \\begin{bmatrix} b_1 \\\\ b_2 \\\\ b_3 \\\\ b_4 \\\\ \\vdots  \\\\ b_n \\end{bmatrix} $$\n",
    "\n",
    "With NumPy it can be created the same way as a row vector, but needs to be additionally transposed — transposition turns rows into columns and columns into rows:\n",
    "\n",
    "$$ \\begin{bmatrix} b_1 & b_2 & b_3 & b_4 & \\dots  & b_n \\end{bmatrix}^T\n",
    "=\\begin{bmatrix} b_1 \\\\ b_2 \\\\ b_3 \\\\ b_4 \\\\ \\vdots \\\\ b_n \\end{bmatrix}\n",
    "$$\n",
    "\n",
    "$$ \\begin{bmatrix} b_1 \\\\ b_2 \\\\ b_3 \\\\ b_4 \\\\ \\vdots  \\\\ b_n \\end{bmatrix}^T\n",
    "= \\begin{bmatrix} b_1 & b_2 & b_3 & b_4 & \\dots  & b_n \\end{bmatrix}\n",
    "$$\n",
    "\n",
    "To turn vector b into row vector b, we’ll use the same method that we used to turn vector a into row vector a, then we can perform a transposition on it to make it a column vector b:\n",
    "\n",
    "$$ b = \\begin{bmatrix} 2 & 3 & 4 \\end{bmatrix} $$\n",
    "\n",
    "$$ b^T = \\begin{bmatrix} 2 & 3 & 4 \\end{bmatrix}^T = \\begin{bmatrix} 2 \\\\ 3 \\\\ 4 \\end{bmatrix} $$\n",
    "\n",
    "With NumPy code:"
   ]
  },
  {
   "cell_type": "code",
   "execution_count": 5,
   "metadata": {},
   "outputs": [
    {
     "data": {
      "text/plain": [
       "array([[20]])"
      ]
     },
     "execution_count": 5,
     "metadata": {},
     "output_type": "execute_result"
    }
   ],
   "source": [
    "a = [1, 2, 3] \n",
    "b = [2, 3, 4]\n",
    "\n",
    "a = np.array([a])\n",
    "b = np.array([b]).T\n",
    "\n",
    "np.dot(a, b)"
   ]
  }
 ],
 "metadata": {
  "kernelspec": {
   "display_name": "Python 3",
   "language": "python",
   "name": "python3"
  },
  "language_info": {
   "codemirror_mode": {
    "name": "ipython",
    "version": 3
   },
   "file_extension": ".py",
   "mimetype": "text/x-python",
   "name": "python",
   "nbconvert_exporter": "python",
   "pygments_lexer": "ipython3",
   "version": "3.12.0"
  }
 },
 "nbformat": 4,
 "nbformat_minor": 2
}
