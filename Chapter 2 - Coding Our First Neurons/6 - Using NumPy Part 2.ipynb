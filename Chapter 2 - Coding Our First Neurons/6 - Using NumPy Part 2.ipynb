{
 "cells": [
  {
   "cell_type": "markdown",
   "metadata": {},
   "source": [
    "### A Layer of Neurons & Batch of Data w/ NumPy\n",
    "\n",
    "Initially, when performing the dot product, we could directly multiply the inputs and the weights without transposing anything because the weights were arranged as a matrix, and the inputs were just a vector. The dot product resulted in a vector where each element was the sum of the element-wise products of the corresponding weights and inputs."
   ]
  },
  {
   "cell_type": "code",
   "execution_count": 2,
   "metadata": {},
   "outputs": [],
   "source": [
    "import numpy as np"
   ]
  },
  {
   "cell_type": "code",
   "execution_count": null,
   "metadata": {},
   "outputs": [],
   "source": [
    "inputs = [\n",
    "    [1.0, 2.0, 3.0, 2.5],\n",
    "    [2.0, 5.0, -1.0, 2.0],\n",
    "    [-1.5, 2.7, 3.3, -0.8]\n",
    "] \n",
    "weights = [\n",
    "    [0.2, 0.8, -0.5, 1.0], \n",
    "    [0.5, -0.91, 0.26, -0.5], \n",
    "    [-0.26, -0.27, 0.17, 0.87]\n",
    "] \n",
    "biases = [2, 3, 0.5]\n",
    "\n",
    "layer_outputs = np.dot(inputs, weights) + biases\n",
    "\n",
    "print(layer_outputs) \n",
    "\n",
    "# The code above will throw a 'dims' error because the dimensions are not aligned for Matrix Multiplication"
   ]
  },
  {
   "cell_type": "markdown",
   "metadata": {},
   "source": [
    "$$\n",
    "\\begin{array}{c}\n",
    "    \\text{Inputs} \\\\\n",
    "    \\begin{bmatrix} 1.0 & 2.0 & 3.0 & 2.5 \n",
    "        \\\\ 2.0 & 5.0 & -1.0 & 2.0 \n",
    "        \\\\ -1.5 & 2.7 & 3.3 & -0.8 \n",
    "    \\end{bmatrix}\n",
    "\\end{array}\n",
    "\\cdot\n",
    "\\begin{array}{c}\n",
    "    \\text{Weights} \\\\\n",
    "    \\begin{bmatrix} 0.2 & 0.8 & -0.5 & 1.0\n",
    "        \\\\ 0.5 & -0.91 & 0.26 & -0.5\n",
    "        \\\\ -0.26 & -0.27 & 0.17 & 0.87\n",
    "    \\end{bmatrix}\n",
    "\\end{array}\n",
    "$$\n",
    "\n",
    "*Note: This is not allowed because the dimensions of the row from the Input matrix and the column from the Weights matrix are not equal.*\n",
    "\n",
    "If we transpose the second array, values of its shape swap their positions."
   ]
  },
  {
   "cell_type": "code",
   "execution_count": 10,
   "metadata": {},
   "outputs": [
    {
     "name": "stdout",
     "output_type": "stream",
     "text": [
      "[[ 4.8    1.21   2.385]\n",
      " [ 8.9   -1.81   0.2  ]\n",
      " [ 1.41   1.051  0.026]]\n"
     ]
    }
   ],
   "source": [
    "inputs = [\n",
    "    [1.0, 2.0, 3.0, 2.5],\n",
    "    [2.0, 5.0, -1.0, 2.0],\n",
    "    [-1.5, 2.7, 3.3, -0.8]\n",
    "] \n",
    "weights = [\n",
    "    [0.2, 0.8, -0.5, 1.0], \n",
    "    [0.5, -0.91, 0.26, -0.5], \n",
    "    [-0.26, -0.27, 0.17, 0.87]\n",
    "] \n",
    "biases = [2, 3, 0.5]\n",
    "\n",
    "layer_outputs = np.dot(inputs, np.array(weights).T) + biases\n",
    "\n",
    "print(layer_outputs) "
   ]
  },
  {
   "cell_type": "markdown",
   "metadata": {},
   "source": [
    "$$\n",
    "\\begin{array}{c}\n",
    "    \\text{Inputs} \\\\\n",
    "    \\begin{bmatrix} 1.0 & 2.0 & 3.0 & 2.5 \n",
    "        \\\\ 2.0 & 5.0 & -1.0 & 2.0 \n",
    "        \\\\ -1.5 & 2.7 & 3.3 & -0.8 \n",
    "    \\end{bmatrix}\n",
    "\\end{array}\n",
    "\\cdot\n",
    "\\begin{array}{c}\n",
    "    \\text{Weights} \\\\\n",
    "    \\begin{bmatrix} 0.2 & 0.5 & -0.26\n",
    "        \\\\ 0.8 & -0.91 & -0.27 \n",
    "        \\\\ -0.5 & 0.26 & 0.17\n",
    "        \\\\ 1.0 & -0.5 & 0.87\n",
    "    \\end{bmatrix}\n",
    "\\end{array}\n",
    "$$\n",
    "\n",
    "*Note: This is now allowed because the dimensions of the row from the Input matrix and the column from the Weights matrix are equal.*"
   ]
  }
 ],
 "metadata": {
  "kernelspec": {
   "display_name": "Python 3",
   "language": "python",
   "name": "python3"
  },
  "language_info": {
   "codemirror_mode": {
    "name": "ipython",
    "version": 3
   },
   "file_extension": ".py",
   "mimetype": "text/x-python",
   "name": "python",
   "nbconvert_exporter": "python",
   "pygments_lexer": "ipython3",
   "version": "3.12.0"
  }
 },
 "nbformat": 4,
 "nbformat_minor": 2
}
