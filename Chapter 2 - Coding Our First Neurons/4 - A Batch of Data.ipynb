{
 "cells": [
  {
   "cell_type": "markdown",
   "metadata": {},
   "source": [
    "### A Batch of Data\n",
    "\n",
    "To train, neural networks tend to receive data in batches. Often, neural networks expect to take in many *samples* at a time for two reasons. One reason is that it’s faster to train in batches in parallel processing, and the other reason is that batches help with generalization during training.\n",
    "\n",
    "Example of a linear equation fitting batches of 32 chosen samples:\n",
    "\n",
    "![Graph of Batched Data](./img/diagram%204.png)\n",
    "\n",
    "An example of a batch of data could look like:"
   ]
  },
  {
   "cell_type": "code",
   "execution_count": 1,
   "metadata": {},
   "outputs": [],
   "source": [
    "# Input data:\n",
    "batch = [\n",
    "    [1, 5, 6, 2],\n",
    "    [3, 2, 1, 3],\n",
    "    [5, 2, 1, 2],\n",
    "    [6, 4, 8, 4],\n",
    "    [2, 8, 5, 3],\n",
    "    [1, 1, 9, 4],\n",
    "    [6, 6, 0, 4],\n",
    "    [8, 7, 6, 4]\n",
    "]\n",
    "\n",
    "# Shape: (8, 4)\n",
    "# Type: 2D Array, Matrix"
   ]
  },
  {
   "cell_type": "markdown",
   "metadata": {},
   "source": [
    "Lists are useful containers for holding a sample as well as multiple samples that make up a batch of observations. Such an example of a batch of observations, each with its own sample, looks like:"
   ]
  },
  {
   "cell_type": "code",
   "execution_count": 2,
   "metadata": {},
   "outputs": [],
   "source": [
    "inputs = [[1, 2, 3, 2.5], [2, 5, -1, 2], [-1.5, 2.7, 3.3, -0.8]]"
   ]
  },
  {
   "cell_type": "markdown",
   "metadata": {},
   "source": [
    "This list of lists could be made into an array since it is homologous. Note that each “list” in this larger list is a sample representing a feature set. **[1, 2, 3, 2.5]**, **[2, 5, -1, 2]**, and **[-1.5, 2.7, 3.3, -0.8]** are all samples, and are also referred to as feature set instances or observations."
   ]
  }
 ],
 "metadata": {
  "kernelspec": {
   "display_name": "Python 3",
   "language": "python",
   "name": "python3"
  },
  "language_info": {
   "codemirror_mode": {
    "name": "ipython",
    "version": 3
   },
   "file_extension": ".py",
   "mimetype": "text/x-python",
   "name": "python",
   "nbconvert_exporter": "python",
   "pygments_lexer": "ipython3",
   "version": "3.12.0"
  }
 },
 "nbformat": 4,
 "nbformat_minor": 2
}
