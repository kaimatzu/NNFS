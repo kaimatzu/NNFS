{
 "cells": [
  {
   "cell_type": "markdown",
   "metadata": {},
   "source": [
    "### A Layer of Neurons\n",
    "\n",
    " Layer of Neurons Neural networks typically have layers that consist of more than one neuron. Layers are nothing more than groups of neurons. Each neuron in a layer takes exactly in the input given to the layer before it (which can be either the training data or the output from the previous layer). \n",
    "\n",
    " Let’s say we have a scenario with 3 neurons in a layer and 4 inputs:\n",
    "\n",
    " ![A Layer of Neurons](./img/diagram%202.png)"
   ]
  },
  {
   "cell_type": "code",
   "execution_count": 3,
   "metadata": {},
   "outputs": [
    {
     "name": "stdout",
     "output_type": "stream",
     "text": [
      "[4.8, 1.21, 2.385]\n"
     ]
    }
   ],
   "source": [
    "inputs = [1, 2, 3, 2.5] \n",
    "\n",
    "weights1 = [0.2, 0.8, -0.5, 1] \n",
    "weights2 = [0.5, -0.91, 0.26, -0.5] \n",
    "weights3 = [-0.26, -0.27, 0.17, 0.87]\n",
    "\n",
    "bias1 = 2 \n",
    "bias2 = 3 \n",
    "bias3 = 0.5\n",
    "\n",
    "outputs = [ \n",
    "    # Neuron 1: \n",
    "    inputs[0]*weights1[0] + \n",
    "    inputs[1]*weights1[1] + \n",
    "    inputs[2]*weights1[2] + \n",
    "    inputs[3]*weights1[3] + \n",
    "    bias1,\n",
    "    \n",
    "    # Neuron 2: \n",
    "    inputs[0]*weights2[0] + \n",
    "    inputs[1]*weights2[1] + \n",
    "    inputs[2]*weights2[2] + \n",
    "    inputs[3]*weights2[3] + \n",
    "    bias2,\n",
    "    \n",
    "    # Neuron 3: \n",
    "    inputs[0]*weights3[0] + \n",
    "    inputs[1]*weights3[1] + \n",
    "    inputs[2]*weights3[2] + \n",
    "    inputs[3]*weights3[3] + bias3\n",
    "]\n",
    "\n",
    "print(outputs)"
   ]
  },
  {
   "cell_type": "markdown",
   "metadata": {},
   "source": [
    "Outputs should be **4.8, 1.21, 2.385**\n",
    "\n",
    "![Output of Layer](./img/diagram%203.png)\n",
    "\n",
    "Changing the code to use loops instead of the hardcoded operations, and turning the separate weight variables into a list of weights so we can iterate over them:"
   ]
  },
  {
   "cell_type": "code",
   "execution_count": 4,
   "metadata": {},
   "outputs": [
    {
     "name": "stdout",
     "output_type": "stream",
     "text": [
      "[4.8, 1.21, 2.385]\n"
     ]
    }
   ],
   "source": [
    "inputs = [1, 2, 3, 2.5] \n",
    "weights = [\n",
    "    [0.2, 0.8, -0.5, 1], \n",
    "    [0.5, -0.91, 0.26, -0.5], \n",
    "    [-0.26, -0.27, 0.17, 0.87]\n",
    "] \n",
    "biases = [2, 3, 0.5]\n",
    "\n",
    "# Output of current layer \n",
    "layer_outputs = []\n",
    "# For each neuron\n",
    "for neuron_weights, neuron_bias in zip(weights, biases):\n",
    "    # Zeroed output of given neuron\n",
    "    neuron_output = 0\n",
    "    # For each input and weight to the neuron \n",
    "    for n_input, weight in zip(inputs, neuron_weights):\n",
    "        # Multiply this input by associated weight and add to the neuron’s output\n",
    "        neuron_output += n_input*weight\n",
    "    # Add bias \n",
    "    neuron_output += neuron_bias \n",
    "    # Put neuron’s result to the layer’s output list \n",
    "    layer_outputs.append(neuron_output)\n",
    "    \n",
    "print(layer_outputs)"
   ]
  }
 ],
 "metadata": {
  "kernelspec": {
   "display_name": "Python 3",
   "language": "python",
   "name": "python3"
  },
  "language_info": {
   "codemirror_mode": {
    "name": "ipython",
    "version": 3
   },
   "file_extension": ".py",
   "mimetype": "text/x-python",
   "name": "python",
   "nbconvert_exporter": "python",
   "pygments_lexer": "ipython3",
   "version": "3.12.0"
  }
 },
 "nbformat": 4,
 "nbformat_minor": 2
}
